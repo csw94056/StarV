{
 "cells": [
  {
   "cell_type": "code",
   "execution_count": 1,
   "id": "d4316385",
   "metadata": {},
   "outputs": [],
   "source": [
    "import gurobipy as gp\n",
    "from gurobipy import GRB\n",
    "import numpy as np\n",
    "import scipy.sparse as sp"
   ]
  },
  {
   "cell_type": "code",
   "execution_count": 2,
   "id": "89b44ab7",
   "metadata": {},
   "outputs": [
    {
     "name": "stdout",
     "output_type": "stream",
     "text": [
      "Set parameter Username\n",
      "Academic license - for non-commercial use only - expires 2024-03-07\n",
      "Gurobi Optimizer version 10.0.1 build v10.0.1rc0 (linux64)\n",
      "\n",
      "CPU model: 11th Gen Intel(R) Core(TM) i9-11950H @ 2.60GHz, instruction set [SSE2|AVX|AVX2|AVX512]\n",
      "Thread count: 16 physical cores, 16 logical processors, using up to 16 threads\n",
      "\n",
      "Optimize a model with 2 rows, 3 columns and 5 nonzeros\n",
      "Model fingerprint: 0x8d4960d3\n",
      "Variable types: 0 continuous, 3 integer (3 binary)\n",
      "Coefficient statistics:\n",
      "  Matrix range     [1e+00, 3e+00]\n",
      "  Objective range  [1e+00, 2e+00]\n",
      "  Bounds range     [1e+00, 1e+00]\n",
      "  RHS range        [1e+00, 4e+00]\n",
      "Found heuristic solution: objective 2.0000000\n",
      "Presolve removed 2 rows and 3 columns\n",
      "Presolve time: 0.00s\n",
      "Presolve: All rows and columns removed\n",
      "\n",
      "Explored 0 nodes (0 simplex iterations) in 0.03 seconds (0.00 work units)\n",
      "Thread count was 1 (of 16 available processors)\n",
      "\n",
      "Solution count 2: 3 2 \n",
      "\n",
      "Optimal solution found (tolerance 1.00e-04)\n",
      "Best objective 3.000000000000e+00, best bound 3.000000000000e+00, gap 0.0000%\n",
      "[1. 0. 1.]\n",
      "Obj: 3\n"
     ]
    }
   ],
   "source": [
    "try:\n",
    "\n",
    "    # Create a new model\n",
    "    m = gp.Model(\"matrix1\")\n",
    "\n",
    "    # Create variables\n",
    "    x = m.addMVar(shape=3, vtype=GRB.BINARY, name=\"x\")\n",
    "\n",
    "    # Set objective\n",
    "    obj = np.array([1.0, 1.0, 2.0])\n",
    "    m.setObjective(obj @ x, GRB.MAXIMIZE)\n",
    "\n",
    "    # Build (sparse) constraint matrix\n",
    "    val = np.array([1.0, 2.0, 3.0, -1.0, -1.0])\n",
    "    row = np.array([0, 0, 0, 1, 1])\n",
    "    col = np.array([0, 1, 2, 0, 1])\n",
    "\n",
    "    A = sp.csr_matrix((val, (row, col)), shape=(2, 3))\n",
    "\n",
    "    # Build rhs vector\n",
    "    rhs = np.array([4.0, -1.0])\n",
    "\n",
    "    # Add constraints\n",
    "    m.addConstr(A @ x <= rhs, name=\"c\")\n",
    "\n",
    "    # Optimize model\n",
    "    m.optimize()\n",
    "\n",
    "    print(x.X)\n",
    "    print('Obj: %g' % m.ObjVal)\n",
    "\n",
    "except gp.GurobiError as e:\n",
    "    print('Error code ' + str(e.errno) + \": \" + str(e))\n",
    "\n",
    "except AttributeError:\n",
    "    print('Encountered an attribute error')"
   ]
  },
  {
   "cell_type": "code",
   "execution_count": 3,
   "id": "a5879405",
   "metadata": {},
   "outputs": [
    {
     "name": "stdout",
     "output_type": "stream",
     "text": [
      "Gurobi Optimizer version 10.0.1 build v10.0.1rc0 (linux64)\n",
      "\n",
      "CPU model: 11th Gen Intel(R) Core(TM) i9-11950H @ 2.60GHz, instruction set [SSE2|AVX|AVX2|AVX512]\n",
      "Thread count: 16 physical cores, 16 logical processors, using up to 16 threads\n",
      "\n",
      "Optimize a model with 2 rows, 3 columns and 5 nonzeros\n",
      "Model fingerprint: 0x8d4960d3\n",
      "Variable types: 0 continuous, 3 integer (3 binary)\n",
      "Coefficient statistics:\n",
      "  Matrix range     [1e+00, 3e+00]\n",
      "  Objective range  [1e+00, 2e+00]\n",
      "  Bounds range     [1e+00, 1e+00]\n",
      "  RHS range        [1e+00, 4e+00]\n",
      "Found heuristic solution: objective 2.0000000\n",
      "Presolve removed 2 rows and 3 columns\n",
      "Presolve time: 0.00s\n",
      "Presolve: All rows and columns removed\n",
      "\n",
      "Explored 0 nodes (0 simplex iterations) in 0.01 seconds (0.00 work units)\n",
      "Thread count was 1 (of 16 available processors)\n",
      "\n",
      "Solution count 2: 3 2 \n",
      "\n",
      "Optimal solution found (tolerance 1.00e-04)\n",
      "Best objective 3.000000000000e+00, best bound 3.000000000000e+00, gap 0.0000%\n",
      "[1. 0. 1.]\n",
      "Obj: 3\n"
     ]
    }
   ],
   "source": [
    "try:\n",
    "\n",
    "    # Create a new model\n",
    "    m = gp.Model(\"matrix1\")\n",
    "\n",
    "    # Create variables\n",
    "    x = m.addMVar(shape=3, vtype=GRB.BINARY, name=\"x\")\n",
    "\n",
    "    # Set objective\n",
    "    obj = np.array([1.0, 1.0, 2.0])\n",
    "    m.setObjective(obj @ x, GRB.MAXIMIZE)\n",
    "\n",
    "    # Build (sparse) constraint matrix\n",
    "    val = np.array([1.0, 2.0, 3.0, -1.0, -1.0])\n",
    "    row = np.array([0, 0, 0, 1, 1])\n",
    "    col = np.array([0, 1, 2, 0, 1])\n",
    "\n",
    "    B = sp.csc_matrix((val, (row, col)), shape=(2, 3))\n",
    "\n",
    "    # Build rhs vector\n",
    "    rhs = np.array([4.0, -1.0])\n",
    "\n",
    "    # Add constraints\n",
    "    m.addConstr(B @ x <= rhs, name=\"c\")\n",
    "    \n",
    "    # Optimize model\n",
    "    m.optimize()\n",
    "\n",
    "    print(x.X)\n",
    "    print('Obj: %g' % m.ObjVal)\n",
    "\n",
    "except gp.GurobiError as e:\n",
    "    print('Error code ' + str(e.errno) + \": \" + str(e))\n",
    "\n",
    "except AttributeError:\n",
    "    print('Encountered an attribute error')"
   ]
  },
  {
   "cell_type": "code",
   "execution_count": 4,
   "id": "6a7f1362",
   "metadata": {},
   "outputs": [
    {
     "name": "stdout",
     "output_type": "stream",
     "text": [
      "csr_matrix:    (0, 0)\t1.0\n",
      "  (0, 1)\t2.0\n",
      "  (0, 2)\t3.0\n",
      "  (1, 0)\t-1.0\n",
      "  (1, 1)\t-1.0\n",
      "csc_matrix:    (0, 0)\t1.0\n",
      "  (1, 0)\t-1.0\n",
      "  (0, 1)\t2.0\n",
      "  (1, 1)\t-1.0\n",
      "  (0, 2)\t3.0\n"
     ]
    }
   ],
   "source": [
    "print('csr_matrix: ', A)\n",
    "print('csc_matrix: ', B)"
   ]
  },
  {
   "cell_type": "code",
   "execution_count": 5,
   "id": "4e3abb58",
   "metadata": {},
   "outputs": [
    {
     "name": "stdout",
     "output_type": "stream",
     "text": [
      "csr_matrix: A\n",
      "indptr:  [0 3 5]\n",
      "indices:  [0 1 2 0 1]\n",
      "data:  [ 1.  2.  3. -1. -1.]\n"
     ]
    }
   ],
   "source": [
    "print('csr_matrix: A')\n",
    "print('indptr: ', A.indptr)\n",
    "print('indices: ', A.indices)\n",
    "print('data: ', A.data)"
   ]
  },
  {
   "cell_type": "code",
   "execution_count": 6,
   "id": "d90614e6",
   "metadata": {},
   "outputs": [
    {
     "name": "stdout",
     "output_type": "stream",
     "text": [
      "csc_matrix: B\n",
      "indptr:  [0 2 4 5]\n",
      "indices:  [0 1 0 1 0]\n",
      "data:  [ 1. -1.  2. -1.  3.]\n"
     ]
    }
   ],
   "source": [
    "print('csc_matrix: B')\n",
    "print('indptr: ', B.indptr)\n",
    "print('indices: ', B.indices)\n",
    "print('data: ', B.data)"
   ]
  },
  {
   "cell_type": "code",
   "execution_count": 7,
   "id": "eee3b8ff",
   "metadata": {},
   "outputs": [
    {
     "data": {
      "text/plain": [
       "scipy.sparse._csr.csr_matrix"
      ]
     },
     "execution_count": 7,
     "metadata": {},
     "output_type": "execute_result"
    }
   ],
   "source": [
    "type(A)"
   ]
  },
  {
   "cell_type": "code",
   "execution_count": 8,
   "id": "d75b2ade",
   "metadata": {},
   "outputs": [
    {
     "data": {
      "text/plain": [
       "scipy.sparse._csc.csc_matrix"
      ]
     },
     "execution_count": 8,
     "metadata": {},
     "output_type": "execute_result"
    }
   ],
   "source": [
    "type(B)"
   ]
  },
  {
   "cell_type": "code",
   "execution_count": 9,
   "id": "568e5d57",
   "metadata": {},
   "outputs": [
    {
     "data": {
      "text/plain": [
       "False"
      ]
     },
     "execution_count": 9,
     "metadata": {},
     "output_type": "execute_result"
    }
   ],
   "source": [
    "isinstance(A, sp._csc.csc_matrix)"
   ]
  },
  {
   "cell_type": "code",
   "execution_count": 10,
   "id": "10aeaa91",
   "metadata": {},
   "outputs": [
    {
     "data": {
      "text/plain": [
       "True"
      ]
     },
     "execution_count": 10,
     "metadata": {},
     "output_type": "execute_result"
    }
   ],
   "source": [
    "isinstance(A, sp._csr.csr_matrix)"
   ]
  },
  {
   "cell_type": "code",
   "execution_count": null,
   "id": "5d27886a",
   "metadata": {},
   "outputs": [],
   "source": []
  }
 ],
 "metadata": {
  "kernelspec": {
   "display_name": "Python 3 (ipykernel)",
   "language": "python",
   "name": "python3"
  },
  "language_info": {
   "codemirror_mode": {
    "name": "ipython",
    "version": 3
   },
   "file_extension": ".py",
   "mimetype": "text/x-python",
   "name": "python",
   "nbconvert_exporter": "python",
   "pygments_lexer": "ipython3",
   "version": "3.10.7"
  }
 },
 "nbformat": 4,
 "nbformat_minor": 5
}
