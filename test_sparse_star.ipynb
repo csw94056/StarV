{
 "cells": [
  {
   "cell_type": "code",
   "execution_count": 1,
   "id": "facca476",
   "metadata": {},
   "outputs": [],
   "source": [
    "import copy\n",
    "import numpy as np\n",
    "import scipy.sparse as sp\n",
    "\n",
    "import glpk\n",
    "import gurobipy as gp\n",
    "from gurobipy import GRB\n",
    "from scipy.optimize import linprog\n",
    "from scipy.linalg import block_diag\n",
    "\n",
    "import IPython\n",
    "# import polytope as pc\n",
    "\n",
    "from StarV.set.sparsestar import SparseStar\n",
    "from StarV.set.star import Star"
   ]
  },
  {
   "cell_type": "code",
   "execution_count": 2,
   "id": "9086f078",
   "metadata": {},
   "outputs": [
    {
     "name": "stdout",
     "output_type": "stream",
     "text": [
      "SparseStar Set:\n",
      "A: [[0. 1. 0. 0. 0.]\n",
      " [0. 0. 1. 0. 0.]\n",
      " [0. 0. 0. 1. 0.]\n",
      " [0. 0. 0. 0. 1.]]\n",
      "C: \n",
      "d: []\n",
      "pred_lb: [-0.75365 -0.80818 -0.77602 -0.13938]\n",
      "pred_ub: [0.2642  0.22015 0.01055 0.71974]\n",
      "pred_depth: [0. 0. 0. 0.]\n",
      "dim: 4\n",
      "nVars: 4\n",
      "nZVars: 0\n",
      "\n",
      "\n"
     ]
    }
   ],
   "source": [
    "dim = 4\n",
    "lb = -np.random.rand(dim)\n",
    "ub = np.random.rand(dim)\n",
    "# ub[3] = lb[3]\n",
    "S = SparseStar(lb, ub)\n",
    "print(S)"
   ]
  },
  {
   "cell_type": "code",
   "execution_count": 3,
   "id": "0683fba9",
   "metadata": {},
   "outputs": [
    {
     "name": "stdout",
     "output_type": "stream",
     "text": [
      "SparseStar Set:\n",
      "A: [[0.03139 0.73629 0.89552 0.80928 0.41272]\n",
      " [0.71934 0.30112 0.71815 0.66436 0.26604]\n",
      " [0.18789 0.34352 0.75229 0.28119 0.95945]\n",
      " [0.98222 0.92596 0.64224 0.24055 0.38035]]\n",
      "C: \n",
      "d: []\n",
      "pred_lb: [-0.75365 -0.80818 -0.77602 -0.13938]\n",
      "pred_ub: [0.2642  0.22015 0.01055 0.71974]\n",
      "pred_depth: [0. 0. 0. 0.]\n",
      "dim: 4\n",
      "nVars: 4\n",
      "nZVars: 0\n",
      "\n",
      "\n"
     ]
    }
   ],
   "source": [
    "W = np.random.rand(dim, dim)\n",
    "b = np.random.rand(dim)\n",
    "Sa = S.affineMap(W, b)\n",
    "print(Sa)"
   ]
  },
  {
   "cell_type": "code",
   "execution_count": 4,
   "id": "396f1c03",
   "metadata": {},
   "outputs": [
    {
     "name": "stdout",
     "output_type": "stream",
     "text": [
      "lb:  [-1.9328  -0.64063 -1.03092 -0.47436]\n",
      "ub:  [0.72865 1.15549 1.13778 1.64455]\n"
     ]
    }
   ],
   "source": [
    "lb, ub = Sa.estimateRanges()\n",
    "print('lb: ', lb)\n",
    "print('ub: ', ub)"
   ]
  },
  {
   "cell_type": "code",
   "execution_count": 5,
   "id": "f87f87fb",
   "metadata": {},
   "outputs": [
    {
     "name": "stdout",
     "output_type": "stream",
     "text": [
      "lb:  [-0.64063 -0.47436]\n",
      "ub:  [1.15549 1.64455]\n"
     ]
    }
   ],
   "source": [
    "lb, ub = Sa.estimateRange([1,3])\n",
    "print('lb: ', lb)\n",
    "print('ub: ', ub)"
   ]
  },
  {
   "cell_type": "code",
   "execution_count": 6,
   "id": "a2fda941",
   "metadata": {},
   "outputs": [
    {
     "name": "stdout",
     "output_type": "stream",
     "text": [
      "getMin: \n",
      "Set parameter Username\n",
      "Academic license - for non-commercial use only - expires 2024-03-07\n",
      "-1.9328000415639435\n",
      "-0.6406344460872003\n",
      "-1.030924741382605\n",
      "-0.4743647026161938\n",
      "getMax:\n",
      "0.7286531400632414\n",
      "1.155489029234502\n",
      "1.1377826696799676\n",
      "1.6445478595428162\n",
      "getMins: \n",
      "[-1.9328  -0.64063 -1.03092 -0.47436]\n",
      "getMaxs:\n",
      "[0.72865 1.15549 1.13778 1.64455]\n"
     ]
    }
   ],
   "source": [
    "print('getMin: ')\n",
    "for i in range(Sa.dim):\n",
    "    print(Sa.getMin(i))\n",
    "print('getMax:')\n",
    "for i in range(Sa.dim):\n",
    "    print(Sa.getMax(i))\n",
    "print('getMins: ')\n",
    "print(Sa.getMins(np.arange(Sa.dim)))\n",
    "print('getMaxs:')\n",
    "print(Sa.getMaxs(np.arange(Sa.dim)))"
   ]
  },
  {
   "cell_type": "code",
   "execution_count": 7,
   "id": "700a44ec",
   "metadata": {},
   "outputs": [
    {
     "name": "stdout",
     "output_type": "stream",
     "text": [
      "getRange estimate\n",
      "(-0.4743647026161938, 1.6445478595428165)\n",
      "getRange gurobi\n",
      "(-0.4743647026161938, 1.6445478595428162)\n",
      "getRange glpk\n",
      "(-0.4743647026161938, 1.6445478595428162)\n",
      "getRange linprog\n",
      "(-0.4743647026161938, 1.6445478595428162)\n"
     ]
    }
   ],
   "source": [
    "Sr = \n",
    "\n",
    "print('getRange estimate')\n",
    "print(Sa.getRange(3, 'estimate'))\n",
    "print('getRange gurobi')\n",
    "print(Sa.getRange(3, 'gurobi'))\n",
    "print('getRange glpk')\n",
    "print(Sa.getRange(3, 'glpk'))\n",
    "print('getRange linprog')\n",
    "print(Sa.getRange(3, 'linprog'))"
   ]
  },
  {
   "cell_type": "code",
   "execution_count": 8,
   "id": "b70554e0",
   "metadata": {},
   "outputs": [
    {
     "name": "stdout",
     "output_type": "stream",
     "text": [
      "getRanges estimate\n",
      "[[-1.9328   0.72865]\n",
      " [-0.64063  1.15549]\n",
      " [-1.03092  1.13778]\n",
      " [-0.47436  1.64455]]\n",
      "getRange gurobi\n",
      "[[-1.9328   0.72865]\n",
      " [-0.64063  1.15549]\n",
      " [-1.03092  1.13778]\n",
      " [-0.47436  1.64455]]\n",
      "getRange glpk\n",
      "[[-1.9328   0.72865]\n",
      " [-0.64063  1.15549]\n",
      " [-1.03092  1.13778]\n",
      " [-0.47436  1.64455]]\n",
      "getRange linprog\n",
      "[[-1.9328   0.72865]\n",
      " [-0.64063  1.15549]\n",
      " [-1.03092  1.13778]\n",
      " [-0.47436  1.64455]]\n",
      "getRange gurobi with relaxFactor\n",
      "[[-1.9328   0.72865]\n",
      " [-0.64063  1.15549]\n",
      " [-1.03092  1.13778]\n",
      " [-0.47436  1.64455]]\n"
     ]
    }
   ],
   "source": [
    "print('getRanges estimate')\n",
    "print(np.column_stack(Sa.getRanges('estimate')))\n",
    "print('getRange gurobi')\n",
    "print(np.column_stack(Sa.getRanges('gurobi')))\n",
    "print('getRange glpk')\n",
    "print(np.column_stack(Sa.getRanges('glpk')))\n",
    "print('getRange linprog')\n",
    "print(np.column_stack(Sa.getRanges('linprog')))\n",
    "print('getRange gurobi with relaxFactor')\n",
    "print(np.column_stack(Sa.getRanges('gurobi', 0.5)))"
   ]
  },
  {
   "cell_type": "code",
   "execution_count": 13,
   "id": "9e3c6597",
   "metadata": {},
   "outputs": [
    {
     "name": "stdout",
     "output_type": "stream",
     "text": [
      "l:  [-1.9328  -0.64063 -1.03092 -0.47436]\n",
      "u:  [0.72865 1.15549 1.13778 1.64455]\n",
      "[]\n",
      "[]\n",
      "[]\n",
      "[0 1 2 3]\n"
     ]
    }
   ],
   "source": [
    "l = Sa.getMins(np.arange(Sa.dim))\n",
    "u = Sa.getMaxs(np.arange(Sa.dim))\n",
    "print(\"l: \", l)\n",
    "print(\"u: \", u)\n",
    "\n",
    "map1 = np.where(l == u)[0]\n",
    "print(map1)\n",
    "map1 = np.where((l >= 0) & (l != u))[0]\n",
    "print(map1)\n",
    "map1 = np.where((u <= 0) & (l != u))[0]\n",
    "print(map1)\n",
    "map1 = np.where((l < 0) & (u > 0))[0]\n",
    "print(map1)"
   ]
  },
  {
   "cell_type": "code",
   "execution_count": 10,
   "id": "cbddb93c",
   "metadata": {},
   "outputs": [
    {
     "name": "stdout",
     "output_type": "stream",
     "text": [
      "[3 1 2 0]\n"
     ]
    }
   ],
   "source": [
    "print(np.argsort(l)[::-1])"
   ]
  },
  {
   "cell_type": "code",
   "execution_count": 14,
   "id": "3c64f13d",
   "metadata": {},
   "outputs": [
    {
     "data": {
      "text/plain": [
       "array([0., 0., 0., 0.])"
      ]
     },
     "execution_count": 14,
     "metadata": {},
     "output_type": "execute_result"
    }
   ],
   "source": [
    "np.zeros(4)"
   ]
  },
  {
   "cell_type": "code",
   "execution_count": 19,
   "id": "75d705a7",
   "metadata": {},
   "outputs": [],
   "source": [
    "d = np.minimum(l, u)"
   ]
  },
  {
   "cell_type": "code",
   "execution_count": 20,
   "id": "6e162d80",
   "metadata": {},
   "outputs": [
    {
     "data": {
      "text/plain": [
       "array([[-1.9328 ,  0.     ,  0.     ,  0.     ],\n",
       "       [ 0.     , -0.64063,  0.     ,  0.     ],\n",
       "       [ 0.     ,  0.     , -1.03092,  0.     ],\n",
       "       [ 0.     ,  0.     ,  0.     , -0.47436]])"
      ]
     },
     "execution_count": 20,
     "metadata": {},
     "output_type": "execute_result"
    }
   ],
   "source": [
    "np.diag(d)"
   ]
  },
  {
   "cell_type": "code",
   "execution_count": 22,
   "id": "b95156be",
   "metadata": {},
   "outputs": [
    {
     "data": {
      "text/plain": [
       "array([-1.40834, -0.74025, -1.17297, -0.78012])"
      ]
     },
     "execution_count": 22,
     "metadata": {},
     "output_type": "execute_result"
    }
   ],
   "source": [
    "l*u"
   ]
  },
  {
   "cell_type": "code",
   "execution_count": 25,
   "id": "98c7b5f2",
   "metadata": {},
   "outputs": [
    {
     "data": {
      "text/plain": [
       "(array([], dtype=int64),)"
      ]
     },
     "execution_count": 25,
     "metadata": {},
     "output_type": "execute_result"
    }
   ],
   "source": [
    "np.where(l == u)"
   ]
  },
  {
   "cell_type": "code",
   "execution_count": 26,
   "id": "d6af7a28",
   "metadata": {},
   "outputs": [
    {
     "ename": "AttributeError",
     "evalue": "module 'scipy.sparse' has no attribute 'array'",
     "output_type": "error",
     "traceback": [
      "\u001b[0;31m---------------------------------------------------------------------------\u001b[0m",
      "\u001b[0;31mAttributeError\u001b[0m                            Traceback (most recent call last)",
      "Cell \u001b[0;32mIn[26], line 1\u001b[0m\n\u001b[0;32m----> 1\u001b[0m \u001b[43msp\u001b[49m\u001b[38;5;241;43m.\u001b[39;49m\u001b[43marray\u001b[49m([\u001b[38;5;241m0\u001b[39m, \u001b[38;5;241m1\u001b[39m, \u001b[38;5;241m2\u001b[39m, \u001b[38;5;241m0\u001b[39m])\n",
      "\u001b[0;31mAttributeError\u001b[0m: module 'scipy.sparse' has no attribute 'array'"
     ]
    }
   ],
   "source": [
    "sp.array([0, 1, 2, 0])"
   ]
  },
  {
   "cell_type": "code",
   "execution_count": null,
   "id": "bc2da856",
   "metadata": {},
   "outputs": [],
   "source": []
  }
 ],
 "metadata": {
  "kernelspec": {
   "display_name": "Python 3 (ipykernel)",
   "language": "python",
   "name": "python3"
  },
  "language_info": {
   "codemirror_mode": {
    "name": "ipython",
    "version": 3
   },
   "file_extension": ".py",
   "mimetype": "text/x-python",
   "name": "python",
   "nbconvert_exporter": "python",
   "pygments_lexer": "ipython3",
   "version": "3.10.7"
  }
 },
 "nbformat": 4,
 "nbformat_minor": 5
}
