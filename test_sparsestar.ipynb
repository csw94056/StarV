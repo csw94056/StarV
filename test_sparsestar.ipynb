{
 "cells": [
  {
   "cell_type": "code",
   "execution_count": 1,
   "id": "adaf9f0c",
   "metadata": {},
   "outputs": [],
   "source": [
    "import numpy as np\n",
    "import matplotlib.pyplot as plt\n",
    "from StarV.fun.tansig import TanSig\n",
    "from StarV.fun.logsig import LogSig\n",
    "\n",
    "import copy\n",
    "import scipy.sparse as sp\n",
    "from scipy.optimize import linprog\n",
    "from scipy.linalg import block_diag\n",
    "from StarV.set.sparsestar import SparseStar\n",
    "from StarV.set.star import Star\n",
    "\n",
    "from StarV.util.plot import plot_2D_Star\n",
    "from matplotlib import pyplot as plt\n",
    "\n",
    "np.set_printoptions(precision=10)"
   ]
  },
  {
   "cell_type": "code",
   "execution_count": 2,
   "id": "f7605415",
   "metadata": {},
   "outputs": [
    {
     "name": "stdout",
     "output_type": "stream",
     "text": [
      "Set parameter Username\n",
      "Academic license - for non-commercial use only - expires 2024-03-07\n",
      "S1: ---------------\n",
      "\n",
      "SparseStar Set:\n",
      "A: \n",
      "[[0. 1. 0.]\n",
      " [0. 0. 1.]]\n",
      "C_csc: \n",
      "[[ 0.9686988738  0.2482387802]\n",
      " [ 0.475783502  -0.8795624249]\n",
      " [-0.7211285649  0.6928012651]\n",
      " [-0.9973412037 -0.0728733381]]\n",
      "d: [ 1.0810479776 -0.0445487174  0.0218576062 -0.6264240007]\n",
      "pred_lb: [0.581558194  0.3755609839]\n",
      "pred_ub: [0.968717283  0.9419147796]\n",
      "pred_depth: [0. 0.]\n",
      "dim: 2\n",
      "nVars: 2\n",
      "nZVars: 0\n",
      "\n",
      "\n",
      "SparseStar Set:\n",
      "A: (2, 3)\n",
      "C: (4, 2)\n",
      "d: (4,)\n",
      "pred_lb: (2,)\n",
      "pred_ub: (2,)\n",
      "pred_depth: (2,)\n",
      "dim: 2\n",
      "nVars: 2\n",
      "nZVars: 0\n",
      "\n",
      "\n",
      "S2: ---------------\n",
      "\n",
      "SparseStar Set:\n",
      "A: \n",
      "[[0. 1. 0.]\n",
      " [0. 0. 1.]]\n",
      "C_csc: \n",
      "[[-0.089515421  -0.9959854363]\n",
      " [ 0.7826216865  0.6224976272]\n",
      " [-0.7657452963 -0.6431439506]\n",
      " [ 0.1682159572  0.985750167 ]]\n",
      "d: [-0.8122261143  0.9339793127 -0.6399517656  0.9773556091]\n",
      "pred_lb: [0.0034829112 0.762770482 ]\n",
      "pred_ub: [0.5866902304 0.9908897412]\n",
      "pred_depth: [0. 0.]\n",
      "dim: 2\n",
      "nVars: 2\n",
      "nZVars: 0\n",
      "\n",
      "\n",
      "S3: ---------------\n",
      "\n",
      "SparseStar Set:\n",
      "A: \n",
      "[[0. 1. 0. 1. 0.]\n",
      " [0. 0. 1. 0. 1.]]\n",
      "C_csc: \n",
      "[[ 0.9686988738  0.2482387802  0.            0.          ]\n",
      " [ 0.475783502  -0.8795624249  0.            0.          ]\n",
      " [-0.7211285649  0.6928012651  0.            0.          ]\n",
      " [-0.9973412037 -0.0728733381  0.            0.          ]\n",
      " [ 0.            0.           -0.089515421  -0.9959854363]\n",
      " [ 0.            0.            0.7826216865  0.6224976272]\n",
      " [ 0.            0.           -0.7657452963 -0.6431439506]\n",
      " [ 0.            0.            0.1682159572  0.985750167 ]]\n",
      "d: [ 1.0810479776 -0.0445487174  0.0218576062 -0.6264240007 -0.8122261143\n",
      "  0.9339793127 -0.6399517656  0.9773556091]\n",
      "pred_lb: [0.581558194  0.3755609839 0.0034829112 0.762770482 ]\n",
      "pred_ub: [0.968717283  0.9419147796 0.5866902304 0.9908897412]\n",
      "pred_depth: [0. 0. 0. 0.]\n",
      "dim: 2\n",
      "nVars: 4\n",
      "nZVars: 0\n",
      "\n",
      "\n"
     ]
    }
   ],
   "source": [
    "\"\"\"Test Minkowski Sum\"\"\"\n",
    "dim = 2\n",
    "N = 4\n",
    "S1 = SparseStar.rand(dim, N)\n",
    "print('S1: ---------------\\n')\n",
    "print(S1)\n",
    "print(S1.__repr__())\n",
    "\n",
    "S2 = SparseStar.rand(dim, N)\n",
    "print('S2: ---------------\\n')\n",
    "print(S2)\n",
    "\n",
    "S3 = S1.minKowskiSum(S2)\n",
    "print('S3: ---------------\\n')\n",
    "print(S3)"
   ]
  },
  {
   "cell_type": "code",
   "execution_count": 3,
   "id": "2483c703",
   "metadata": {},
   "outputs": [
    {
     "name": "stdout",
     "output_type": "stream",
     "text": [
      "W: \n",
      "[[0.0158542224 0.952565396 ]\n",
      " [0.8226567837 0.4300452225]] \n",
      "b:[0.7810978408 0.8324443643]\n",
      "Sa: ---------------\n",
      "\n",
      "SparseStar Set:\n",
      "A: \n",
      "[[0.7810978408 0.0158542224 0.952565396 ]\n",
      " [0.8324443643 0.8226567837 0.4300452225]]\n",
      "C_csc: \n",
      "[[ 0.9686988738  0.2482387802]\n",
      " [ 0.475783502  -0.8795624249]\n",
      " [-0.7211285649  0.6928012651]\n",
      " [-0.9973412037 -0.0728733381]]\n",
      "d: [ 1.0810479776 -0.0445487174  0.0218576062 -0.6264240007]\n",
      "pred_lb: [0.581558194  0.3755609839]\n",
      "pred_ub: [0.968717283  0.9419147796]\n",
      "pred_depth: [0. 0.]\n",
      "dim: 2\n",
      "nVars: 2\n",
      "nZVars: 0\n",
      "\n",
      "\n"
     ]
    }
   ],
   "source": [
    "\"\"\"Test Affine Mapping\"\"\"\n",
    "W = np.random.rand(dim, dim)\n",
    "b = np.random.rand(dim)\n",
    "print('W: \\n{} \\nb:{}'.format(W, b))\n",
    "Sa = S1.affineMap(W, b)\n",
    "print('Sa: ---------------\\n')\n",
    "print(Sa)"
   ]
  },
  {
   "cell_type": "code",
   "execution_count": 4,
   "id": "9ec5c357",
   "metadata": {},
   "outputs": [
    {
     "name": "stdout",
     "output_type": "stream",
     "text": [
      "v:  [0.1154977904 0.0792398024]\n",
      "Sv: ---------------\n",
      "\n",
      "SparseStar Set:\n",
      "A: \n",
      "[[0.1154977904 1.           0.          ]\n",
      " [0.0792398024 0.           1.          ]]\n",
      "C_csc: \n",
      "[[ 0.9686988738  0.2482387802]\n",
      " [ 0.475783502  -0.8795624249]\n",
      " [-0.7211285649  0.6928012651]\n",
      " [-0.9973412037 -0.0728733381]]\n",
      "d: [ 1.0810479776 -0.0445487174  0.0218576062 -0.6264240007]\n",
      "pred_lb: [0.581558194  0.3755609839]\n",
      "pred_ub: [0.968717283  0.9419147796]\n",
      "pred_depth: [0. 0.]\n",
      "dim: 2\n",
      "nVars: 2\n",
      "nZVars: 0\n",
      "\n",
      "\n"
     ]
    }
   ],
   "source": [
    "\"\"\"Test Translation\"\"\"\n",
    "v = np.random.rand(dim)\n",
    "print('v: ', v)\n",
    "Sv = S1.translation(v)\n",
    "print('Sv: ---------------\\n')\n",
    "print(Sv)"
   ]
  },
  {
   "cell_type": "code",
   "execution_count": 5,
   "id": "66d81e0f",
   "metadata": {},
   "outputs": [
    {
     "name": "stdout",
     "output_type": "stream",
     "text": [
      "getRanges estimate [ub, lb]:\n",
      "[[1.1480643911 1.6936915251]\n",
      " [1.4723753646 2.0344321597]]\n",
      "getRange gurobi [ub, lb]:\n",
      "[[1.1483671186 1.6921994369]\n",
      " [1.4880835328 1.9570094769]]\n",
      "getRange glpk [ub, lb]:\n",
      "[[1.1483671186 1.6921994369]\n",
      " [1.4880835328 1.9570094769]]\n",
      "getRange linprog [ub, lb]:\n",
      "[[1.1483671186 1.6921994369]\n",
      " [1.4880835328 1.9570094769]]\n",
      "getRange gurobi with relaxFactor [ub, lb]:\n",
      "[[1.1480643911 1.6936915251]\n",
      " [1.4723753646 2.0344321597]]\n"
     ]
    }
   ],
   "source": [
    "\"\"\"Test SparseStar.getRanges()\"\"\"\n",
    "print('getRanges estimate [ub, lb]:')\n",
    "print(np.column_stack(Sa.getRanges('estimate')))\n",
    "print('getRange gurobi [ub, lb]:')\n",
    "print(np.column_stack(Sa.getRanges('gurobi')))\n",
    "print('getRange glpk [ub, lb]:')\n",
    "print(np.column_stack(Sa.getRanges('glpk')))\n",
    "print('getRange linprog [ub, lb]:')\n",
    "print(np.column_stack(Sa.getRanges('linprog')))\n",
    "print('getRange gurobi with relaxFactor [ub, lb]:')\n",
    "print(np.column_stack(Sa.getRanges('gurobi', 0.5)))"
   ]
  },
  {
   "cell_type": "code",
   "execution_count": 6,
   "id": "26e378a7",
   "metadata": {},
   "outputs": [
    {
     "name": "stdout",
     "output_type": "stream",
     "text": [
      "getRanges estimate [lb, ub]:\n",
      "[[0.4962393654 2.7903148949]\n",
      " [0.5450596758 2.4240395052]\n",
      " [0.4248240213 2.5038303735]\n",
      " [1.1585468165 3.8851943554]\n",
      " [0.2337754053 1.7434597149]]\n",
      "getRange gurobi [lb, ub]:\n",
      "[[0.9588619189 2.1366297698]\n",
      " [0.9828406496 1.9633592501]\n",
      " [0.7896856659 1.8755394501]\n",
      " [1.5634966044 2.8712963158]\n",
      " [0.3606579588 1.3036414293]]\n",
      "getRange glpk [lb, ub]:\n",
      "[[0.9588619189 2.1366297698]\n",
      " [0.9828406496 1.9633592501]\n",
      " [0.7896856659 1.8755394501]\n",
      " [1.5634966044 2.8712963158]\n",
      " [0.3606579588 1.3036414293]]\n",
      "getRange linprog [lb, ub]:\n",
      "[[0.9588619189 2.1366297698]\n",
      " [0.9828406496 1.9633592501]\n",
      " [0.7896856659 1.8755394501]\n",
      " [1.5634966044 2.8712963158]\n",
      " [0.3606579588 1.3036414293]]\n",
      "getRange gurobi with relaxFactor [lb, ub]:\n",
      "[[0.4962393654 2.7903148949]\n",
      " [0.5450596758 2.4240395052]\n",
      " [0.4248240213 2.5038303735]\n",
      " [1.1585468165 3.8851943554]\n",
      " [0.2337754053 1.7434597149]]\n"
     ]
    }
   ],
   "source": [
    "\"\"\"Test SparseStar.getRange()\"\"\"\n",
    "dim = 5\n",
    "N_cstr = 10\n",
    "Sr = SparseStar.rand(dim, N_cstr)\n",
    "\n",
    "W = np.random.rand(dim, dim)\n",
    "b = np.random.rand(dim)\n",
    "Sra = Sr.affineMap(W, b)\n",
    "\n",
    "print('getRanges estimate [lb, ub]:')\n",
    "print(np.column_stack(Sra.getRanges('estimate')))\n",
    "print('getRange gurobi [lb, ub]:')\n",
    "print(np.column_stack(Sra.getRanges('gurobi')))\n",
    "print('getRange glpk [lb, ub]:')\n",
    "print(np.column_stack(Sra.getRanges('glpk')))\n",
    "print('getRange linprog [lb, ub]:')\n",
    "print(np.column_stack(Sra.getRanges('linprog')))\n",
    "print('getRange gurobi with relaxFactor [lb, ub]:')\n",
    "print(np.column_stack(Sra.getRanges('gurobi', 0.5)))"
   ]
  },
  {
   "cell_type": "code",
   "execution_count": 7,
   "id": "9fc8d582",
   "metadata": {},
   "outputs": [
    {
     "name": "stdout",
     "output_type": "stream",
     "text": [
      "getRanges estimate [lb, ub]:\n",
      "[[1.1585468165 3.8851943554]]\n",
      "getRange gurobi [lb, ub]:\n",
      "[[1.5634966044 2.8712963158]]\n",
      "getRange glpk [lb, ub]:\n",
      "[[1.5634966044 2.8712963158]]\n",
      "getRange linprog [lb, ub]:\n",
      "[[1.5634966044 2.8712963158]]\n"
     ]
    }
   ],
   "source": [
    "\"\"\"Test SparseStar.getRange()\"\"\"\n",
    "print('getRanges estimate [lb, ub]:')\n",
    "print(np.column_stack(Sra.getRange(3, 'estimate')))\n",
    "print('getRange gurobi [lb, ub]:')\n",
    "print(np.column_stack(Sra.getRange(3, 'gurobi')))\n",
    "print('getRange glpk [lb, ub]:')\n",
    "print(np.column_stack(Sra.getRange(3, 'glpk')))\n",
    "print('getRange linprog [lb, ub]:')\n",
    "print(np.column_stack(Sra.getRange(3, 'linprog')))"
   ]
  },
  {
   "cell_type": "code",
   "execution_count": 8,
   "id": "aae904d7",
   "metadata": {},
   "outputs": [
    {
     "name": "stdout",
     "output_type": "stream",
     "text": [
      "SparseStar Set:\n",
      "A: \n",
      "[[0. 1. 0.]\n",
      " [0. 0. 1.]]\n",
      "C_csc: \n",
      "[]\n",
      "d: []\n",
      "pred_lb: [-0.2076619052 -0.6752612436]\n",
      "pred_ub: [-0.1901746642 -0.0384002447]\n",
      "pred_depth: [0. 0.]\n",
      "dim: 2\n",
      "nVars: 2\n",
      "nZVars: 0\n",
      "\n",
      "\n"
     ]
    },
    {
     "data": {
      "image/png": "[encoded data removed]",
      "text/plain": [
       "<Figure size 640x480 with 1 Axes>"
      ]
     },
     "metadata": {},
     "output_type": "display_data"
    },
    {
     "name": "stdout",
     "output_type": "stream",
     "text": [
      "getRange gurobi [lb, ub]:\n",
      "[[-0.2076619052 -0.1901746642]\n",
      " [-0.6752612436 -0.0384002447]]\n",
      "samples [lb, ub]:\n",
      "[[-0.2076353241 -0.190193475 ]\n",
      " [-0.6752330679 -0.0425271516]]\n"
     ]
    }
   ],
   "source": [
    "\"\"\"Test SparseStar TanSig\"\"\"\n",
    "def sample_plot(sample):\n",
    "    n = sample.shape[1]\n",
    "    for i in range(n):\n",
    "        plt.plot(sample[0, i], sample[1, i], '*k')\n",
    "        \n",
    "def sample_affineMap(sample, W, b):\n",
    "    n = sample.shape[1]\n",
    "    sa = s\n",
    "    for i in range(n):\n",
    "        sa[:, i] = W @ sample[:, i] + b\n",
    "    return sa\n",
    "\n",
    "def sample_tansig(sample):\n",
    "    n = sample.shape[1]\n",
    "    sa = s\n",
    "    for i in range(n):\n",
    "        sa[:, i] = TanSig.f(sample[:, i])\n",
    "    return sa\n",
    "\n",
    "def sample_ranges(sample):\n",
    "    n, m = sample.shape\n",
    "    l = np.amin(sample, axis=1)\n",
    "    u = np.amax(sample, axis=1)\n",
    "    return l, u\n",
    "\n",
    "dim = 2\n",
    "# S = SparseStar.rand_bounds(2)\n",
    "lb = np.array([-0.2076619052, -0.6752612436])\n",
    "ub = np.array([-0.1901746642, -0.0384002447])\n",
    "S = SparseStar(lb, ub)\n",
    "n_sample = 500\n",
    "s = S.sample(n_sample)\n",
    "\n",
    "print(S)\n",
    "\n",
    "sample_plot(s)\n",
    "plot_2D_Star(S.toStar())\n",
    "plt.show()\n",
    "\n",
    "print('getRange gurobi [lb, ub]:')\n",
    "print(np.column_stack(S.getRanges('gurobi')))\n",
    "print('samples [lb, ub]:')\n",
    "print(np.column_stack(sample_ranges(s)))"
   ]
  },
  {
   "cell_type": "code",
   "execution_count": 9,
   "id": "4573b6e2",
   "metadata": {},
   "outputs": [
    {
     "name": "stdout",
     "output_type": "stream",
     "text": [
      "W: \n",
      "[[0.8296852263 0.6249613968]\n",
      " [0.2563563088 0.7306757321]] \n",
      "b:[0.1104508255 0.5329835722]\n",
      "SparseStar Set:\n",
      "A: \n",
      "[[0.1104508255 0.8296852263 0.6249613968]\n",
      " [0.5329835722 0.2563563088 0.7306757321]]\n",
      "C_csc: \n",
      "[]\n",
      "d: []\n",
      "pred_lb: [-0.2076619052 -0.6752612436]\n",
      "pred_ub: [-0.1901746642 -0.0384002447]\n",
      "pred_depth: [0. 0.]\n",
      "dim: 2\n",
      "nVars: 2\n",
      "nZVars: 0\n",
      "\n",
      "\n"
     ]
    },
    {
     "data": {
      "image/png": "[encoded data removed]",
      "text/plain": [
       "<Figure size 640x480 with 1 Axes>"
      ]
     },
     "metadata": {},
     "output_type": "display_data"
    },
    {
     "name": "stdout",
     "output_type": "stream",
     "text": [
      "getRange gurobi [lb, ub]:\n",
      "[[-0.4838553993 -0.0713329544]\n",
      " [-0.0136488708  0.4561729703]]\n",
      "samples [lb, ub]:\n",
      "[[-0.4812512705 -0.0747598639]\n",
      " [-0.0128291     0.4526297994]]\n"
     ]
    }
   ],
   "source": [
    "# W = np.random.rand(dim, dim)\n",
    "# b = np.random.rand(dim)\n",
    "W = np.array([[0.8296852263, 0.6249613968],\n",
    " [0.2563563088, 0.7306757321]] )\n",
    "b = np.array([0.1104508255, 0.5329835722])\n",
    "Sa = S.affineMap(W, b)\n",
    "sa = sample_affineMap(s, W, b)\n",
    "\n",
    "print('W: \\n{} \\nb:{}'.format(W, b))\n",
    "print(Sa)\n",
    "\n",
    "sample_plot(sa)\n",
    "plot_2D_Star(Sa.toStar())\n",
    "plt.show()\n",
    "\n",
    "print('getRange gurobi [lb, ub]:')\n",
    "print(np.column_stack(Sa.getRanges('gurobi')))\n",
    "print('samples [lb, ub]:')\n",
    "print(np.column_stack(sample_ranges(sa)))"
   ]
  },
  {
   "cell_type": "code",
   "execution_count": 10,
   "id": "3b33316a",
   "metadata": {},
   "outputs": [
    {
     "name": "stdout",
     "output_type": "stream",
     "text": [
      "C21:  [[ 0.6621769134  0.4987855582 -1.            0.          ]]\n",
      "C22:  [[ 0.8254777441  0.6217921058 -1.            0.          ]]\n",
      "C23:  [[-0.7604807687 -0.5728330557  1.            0.          ]]\n",
      "d21:  [[-0.0249935231]]\n",
      "d22:  [[-0.1096497117]]\n",
      "d23:  [[0.0954088942]]\n",
      "getRange gurobi [lb, ub]:\n",
      "[[-0.4493259527 -0.0712122101]\n",
      " [-0.0136480233  0.4269599496]]\n",
      "samples [lb, ub]:\n",
      "[[-0.4472451513 -0.074620896 ]\n",
      " [-0.0128283963  0.4240583028]]\n"
     ]
    },
    {
     "ename": "TypeError",
     "evalue": "only size-1 arrays can be converted to Python scalars",
     "output_type": "error",
     "traceback": [
      "\u001b[0;31m---------------------------------------------------------------------------\u001b[0m",
      "\u001b[0;31mTypeError\u001b[0m                                 Traceback (most recent call last)",
      "Cell \u001b[0;32mIn[10], line 10\u001b[0m\n\u001b[1;32m      7\u001b[0m \u001b[38;5;28mprint\u001b[39m(np\u001b[38;5;241m.\u001b[39mcolumn_stack(sample_ranges(st)))\n\u001b[1;32m      9\u001b[0m sample_plot(st)\n\u001b[0;32m---> 10\u001b[0m \u001b[43mplot_2D_Star\u001b[49m\u001b[43m(\u001b[49m\u001b[43mSt\u001b[49m\u001b[38;5;241;43m.\u001b[39;49m\u001b[43mtoStar\u001b[49m\u001b[43m(\u001b[49m\u001b[43m)\u001b[49m\u001b[43m)\u001b[49m\n\u001b[1;32m     11\u001b[0m plt\u001b[38;5;241m.\u001b[39mshow()\n",
      "File \u001b[0;32m~/Documents/Github/starv_dev/StarV/util/plot.py:50\u001b[0m, in \u001b[0;36mplot_2D_Star\u001b[0;34m(I, show)\u001b[0m\n\u001b[1;32m     47\u001b[0m \u001b[38;5;28;01mif\u001b[39;00m I\u001b[38;5;241m.\u001b[39mdim \u001b[38;5;241m!=\u001b[39m \u001b[38;5;241m2\u001b[39m:\n\u001b[1;32m     48\u001b[0m     \u001b[38;5;28;01mraise\u001b[39;00m \u001b[38;5;167;01mException\u001b[39;00m(\u001b[38;5;124m'\u001b[39m\u001b[38;5;124mInput set is not 2D star\u001b[39m\u001b[38;5;124m'\u001b[39m)\n\u001b[0;32m---> 50\u001b[0m verts \u001b[38;5;241m=\u001b[39m \u001b[43mgetVertices\u001b[49m\u001b[43m(\u001b[49m\u001b[43mI\u001b[49m\u001b[43m)\u001b[49m\n\u001b[1;32m     51\u001b[0m \u001b[38;5;28;01mtry\u001b[39;00m:\n\u001b[1;32m     52\u001b[0m     pypoman\u001b[38;5;241m.\u001b[39mplot_polygon(verts)\n",
      "File \u001b[0;32m~/Documents/Github/starv_dev/StarV/util/plot.py:40\u001b[0m, in \u001b[0;36mgetVertices\u001b[0;34m(I)\u001b[0m\n\u001b[1;32m     38\u001b[0m proj \u001b[38;5;241m=\u001b[39m (V, c)\n\u001b[1;32m     39\u001b[0m ineq \u001b[38;5;241m=\u001b[39m (C, d)\n\u001b[0;32m---> 40\u001b[0m verts \u001b[38;5;241m=\u001b[39m \u001b[43mpypoman\u001b[49m\u001b[38;5;241;43m.\u001b[39;49m\u001b[43mprojection\u001b[49m\u001b[38;5;241;43m.\u001b[39;49m\u001b[43mproject_polytope\u001b[49m\u001b[43m(\u001b[49m\u001b[43mproj\u001b[49m\u001b[43m,\u001b[49m\u001b[43m \u001b[49m\u001b[43mineq\u001b[49m\u001b[43m)\u001b[49m\n\u001b[1;32m     42\u001b[0m \u001b[38;5;28;01mreturn\u001b[39;00m verts\n",
      "File \u001b[0;32m~/.local/lib/python3.10/site-packages/pypoman/projection.py:149\u001b[0m, in \u001b[0;36mproject_polytope\u001b[0;34m(proj, ineq, eq, method, **kwargs)\u001b[0m\n\u001b[1;32m    147\u001b[0m     \u001b[38;5;28;01massert\u001b[39;00m eq \u001b[38;5;129;01mis\u001b[39;00m \u001b[38;5;129;01mnot\u001b[39;00m \u001b[38;5;28;01mNone\u001b[39;00m, \u001b[38;5;124m\"\u001b[39m\u001b[38;5;124mBretl method requires = constraints for now\u001b[39m\u001b[38;5;124m\"\u001b[39m\n\u001b[1;32m    148\u001b[0m     \u001b[38;5;28;01mreturn\u001b[39;00m project_polytope_bretl(proj, ineq, eq, \u001b[38;5;241m*\u001b[39m\u001b[38;5;241m*\u001b[39mkwargs)\n\u001b[0;32m--> 149\u001b[0m vertices, rays \u001b[38;5;241m=\u001b[39m \u001b[43mproject_polyhedron\u001b[49m\u001b[43m(\u001b[49m\u001b[43mproj\u001b[49m\u001b[43m,\u001b[49m\u001b[43m \u001b[49m\u001b[43mineq\u001b[49m\u001b[43m,\u001b[49m\u001b[43m \u001b[49m\u001b[43meq\u001b[49m\u001b[43m)\u001b[49m\n\u001b[1;32m    150\u001b[0m \u001b[38;5;28;01massert\u001b[39;00m \u001b[38;5;129;01mnot\u001b[39;00m rays, \u001b[38;5;124m\"\u001b[39m\u001b[38;5;124mProjection is not a polytope\u001b[39m\u001b[38;5;124m\"\u001b[39m\n\u001b[1;32m    151\u001b[0m \u001b[38;5;28;01mreturn\u001b[39;00m vertices\n",
      "File \u001b[0;32m~/.local/lib/python3.10/site-packages/pypoman/projection.py:76\u001b[0m, in \u001b[0;36mproject_polyhedron\u001b[0;34m(proj, ineq, eq, canonicalize)\u001b[0m\n\u001b[1;32m     74\u001b[0m (A, b) \u001b[38;5;241m=\u001b[39m ineq\n\u001b[1;32m     75\u001b[0m b \u001b[38;5;241m=\u001b[39m b\u001b[38;5;241m.\u001b[39mreshape((b\u001b[38;5;241m.\u001b[39mshape[\u001b[38;5;241m0\u001b[39m], \u001b[38;5;241m1\u001b[39m))\n\u001b[0;32m---> 76\u001b[0m linsys \u001b[38;5;241m=\u001b[39m \u001b[43mcdd\u001b[49m\u001b[38;5;241;43m.\u001b[39;49m\u001b[43mMatrix\u001b[49m\u001b[43m(\u001b[49m\u001b[43mhstack\u001b[49m\u001b[43m(\u001b[49m\u001b[43m[\u001b[49m\u001b[43mb\u001b[49m\u001b[43m,\u001b[49m\u001b[43m \u001b[49m\u001b[38;5;241;43m-\u001b[39;49m\u001b[43mA\u001b[49m\u001b[43m]\u001b[49m\u001b[43m)\u001b[49m\u001b[43m,\u001b[49m\u001b[43m \u001b[49m\u001b[43mnumber_type\u001b[49m\u001b[38;5;241;43m=\u001b[39;49m\u001b[38;5;124;43m'\u001b[39;49m\u001b[38;5;124;43mfloat\u001b[39;49m\u001b[38;5;124;43m'\u001b[39;49m\u001b[43m)\u001b[49m\n\u001b[1;32m     77\u001b[0m linsys\u001b[38;5;241m.\u001b[39mrep_type \u001b[38;5;241m=\u001b[39m cdd\u001b[38;5;241m.\u001b[39mRepType\u001b[38;5;241m.\u001b[39mINEQUALITY\n\u001b[1;32m     79\u001b[0m \u001b[38;5;66;03m# the input [d, -C] to cdd.Matrix.extend represents (d - C * x == 0)\u001b[39;00m\n\u001b[1;32m     80\u001b[0m \u001b[38;5;66;03m# see ftp://ftp.ifor.math.ethz.ch/pub/fukuda/cdd/cddlibman/node3.html\u001b[39;00m\n",
      "File \u001b[0;32mcdd.pyx:612\u001b[0m, in \u001b[0;36mcdd.Matrix.__cinit__\u001b[0;34m()\u001b[0m\n",
      "File \u001b[0;32mcdd.pyx:270\u001b[0m, in \u001b[0;36mcdd._set_myfloat\u001b[0;34m()\u001b[0m\n",
      "\u001b[0;31mTypeError\u001b[0m: only size-1 arrays can be converted to Python scalars"
     ]
    },
    {
     "data": {
      "image/png": "[encoded data removed]",
      "text/plain": [
       "<Figure size 640x480 with 1 Axes>"
      ]
     },
     "metadata": {},
     "output_type": "display_data"
    }
   ],
   "source": [
    "St = TanSig.reach(Sa)\n",
    "st = sample_tansig(sa)\n",
    "\n",
    "print('getRange gurobi [lb, ub]:')\n",
    "print(np.column_stack(St.getRanges('gurobi')))\n",
    "print('samples [lb, ub]:')\n",
    "print(np.column_stack(sample_ranges(st)))\n",
    "\n",
    "sample_plot(st)\n",
    "plot_2D_Star(St.toStar())\n",
    "plt.show()"
   ]
  },
  {
   "cell_type": "code",
   "execution_count": null,
   "id": "9a06bcc0",
   "metadata": {},
   "outputs": [],
   "source": []
  },
  {
   "cell_type": "code",
   "execution_count": null,
   "id": "43f60e66",
   "metadata": {},
   "outputs": [],
   "source": []
  },
  {
   "cell_type": "code",
   "execution_count": null,
   "id": "4ece44db",
   "metadata": {},
   "outputs": [],
   "source": []
  }
 ],
 "metadata": {
  "kernelspec": {
   "display_name": "Python 3 (ipykernel)",
   "language": "python",
   "name": "python3"
  },
  "language_info": {
   "codemirror_mode": {
    "name": "ipython",
    "version": 3
   },
   "file_extension": ".py",
   "mimetype": "text/x-python",
   "name": "python",
   "nbconvert_exporter": "python",
   "pygments_lexer": "ipython3",
   "version": "3.10.7"
  }
 },
 "nbformat": 4,
 "nbformat_minor": 5
}
