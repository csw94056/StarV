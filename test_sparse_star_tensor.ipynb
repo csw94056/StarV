{
 "cells": [
  {
   "cell_type": "code",
   "execution_count": 1,
   "id": "dba42202",
   "metadata": {},
   "outputs": [
    {
     "name": "stderr",
     "output_type": "stream",
     "text": [
      "/home/schoi/.local/lib/python3.10/site-packages/tqdm/auto.py:21: TqdmWarning: IProgress not found. Please update jupyter and ipywidgets. See https://ipywidgets.readthedocs.io/en/stable/user_install.html\n",
      "  from .autonotebook import tqdm as notebook_tqdm\n"
     ]
    }
   ],
   "source": [
    "import torch, copy, glpk\n",
    "import sys\n",
    "import gurobipy as gp\n",
    "import numpy as np\n",
    "import scipy.sparse as sp\n",
    "from gurobipy import GRB\n",
    "from scipy.optimize import linprog\n",
    "from scipy.linalg import block_diag\n",
    "import polytope as pc\n",
    "\n",
    "torch.set_default_dtype(torch.float64)\n",
    "\n",
    "from StarV.set.sparsestar import SparseStar\n",
    "from StarV.set.star import Star"
   ]
  },
  {
   "cell_type": "code",
   "execution_count": 2,
   "id": "d9b0e982",
   "metadata": {},
   "outputs": [
    {
     "name": "stdout",
     "output_type": "stream",
     "text": [
      "x:  tensor([0, 1, 3])\n",
      "ub[x]:  tensor([7.9217e-01, 3.3867e-04, 6.8111e-01])\n"
     ]
    }
   ],
   "source": [
    "dim = 4\n",
    "lb =  -torch.rand(dim)\n",
    "ub = torch.rand(dim)\n",
    "ub[2] = lb[2]\n",
    "\n",
    "x = torch.where(ub > lb)[0]\n",
    "print('x: ', x)\n",
    "print('ub[x]: ', ub[x])\n",
    "S = SparseStar(lb, ub)"
   ]
  },
  {
   "cell_type": "code",
   "execution_count": 3,
   "id": "ec9b5234",
   "metadata": {},
   "outputs": [
    {
     "name": "stdout",
     "output_type": "stream",
     "text": [
      "SparseStar Set:\n",
      "A: tensor([[0., 1., 0., 0.],\n",
      "        [0., 0., 1., 0.],\n",
      "        [0., 0., 0., 0.],\n",
      "        [0., 0., 0., 1.]])\n",
      "C: tensor([])\n",
      "d: tensor([])\n",
      "pred_lb: tensor([-0.3399, -0.7219, -0.6103, -0.3060])\n",
      "pred_ub: tensor([ 7.9217e-01,  3.3867e-04, -6.1029e-01,  6.8111e-01])\n",
      "pred_depth: tensor([0., 0., 0., 0.])\n",
      "dim: 4\n",
      "nVars: 4\n",
      "nZVars: 1\n",
      "\n",
      "\n"
     ]
    }
   ],
   "source": [
    "print(S)"
   ]
  },
  {
   "cell_type": "code",
   "execution_count": 4,
   "id": "3df7b064",
   "metadata": {},
   "outputs": [
    {
     "name": "stdout",
     "output_type": "stream",
     "text": [
      "W:  tensor([[0.3055, 0.3517, 0.1663, 0.2268],\n",
      "        [0.1326, 0.2348, 0.4768, 0.6236],\n",
      "        [0.2712, 0.6013, 0.6835, 0.0820],\n",
      "        [0.9112, 0.7974, 0.2056, 0.3683]])\n",
      "b:  tensor([0.5079, 0.4345, 0.2870, 0.3672])\n",
      "SparseStar Set:\n",
      "A: tensor([[0.5079, 0.3055, 0.3517, 0.2268],\n",
      "        [0.4345, 0.1326, 0.2348, 0.6236],\n",
      "        [0.2870, 0.2712, 0.6013, 0.0820],\n",
      "        [0.3672, 0.9112, 0.7974, 0.3683]])\n",
      "C: tensor([])\n",
      "d: tensor([])\n",
      "pred_lb: tensor([-0.3399, -0.7219, -0.6103, -0.3060])\n",
      "pred_ub: tensor([ 7.9217e-01,  3.3867e-04, -6.1029e-01,  6.8111e-01])\n",
      "pred_depth: tensor([0., 0., 0., 0.])\n",
      "dim: 4\n",
      "nVars: 4\n",
      "nZVars: 1\n",
      "\n",
      "\n",
      "Set parameter Username\n",
      "Academic license - for non-commercial use only - expires 2024-03-07\n",
      "<MVar (4,)>\n",
      "array([<gurobi.Var *Awaiting Model Update*>,\n",
      "       <gurobi.Var *Awaiting Model Update*>,\n",
      "       <gurobi.Var *Awaiting Model Update*>,\n",
      "       <gurobi.Var *Awaiting Model Update*>])\n"
     ]
    },
    {
     "ename": "TypeError",
     "evalue": "matmul(): argument 'other' (position 2) must be Tensor, not MVar",
     "output_type": "error",
     "traceback": [
      "\u001b[0;31m---------------------------------------------------------------------------\u001b[0m",
      "\u001b[0;31mTypeError\u001b[0m                                 Traceback (most recent call last)",
      "Cell \u001b[0;32mIn[4], line 7\u001b[0m\n\u001b[1;32m      5\u001b[0m Sa \u001b[38;5;241m=\u001b[39m S\u001b[38;5;241m.\u001b[39maffineMap(W,b)\n\u001b[1;32m      6\u001b[0m \u001b[38;5;28mprint\u001b[39m(Sa)\n\u001b[0;32m----> 7\u001b[0m \u001b[38;5;28mprint\u001b[39m(\u001b[43mSa\u001b[49m\u001b[38;5;241;43m.\u001b[39;49m\u001b[43mgetMin\u001b[49m\u001b[43m(\u001b[49m\u001b[38;5;241;43m0\u001b[39;49m\u001b[43m)\u001b[49m)\n",
      "File \u001b[0;32m~/Documents/Github/starv_dev/StarV/set/sparsestar.py:312\u001b[0m, in \u001b[0;36mSparseStar.getMin\u001b[0;34m(self, index, lp_solver)\u001b[0m\n\u001b[1;32m    310\u001b[0m \u001b[38;5;28mprint\u001b[39m(x)\n\u001b[1;32m    311\u001b[0m \u001b[38;5;66;03m# min_.setObjective(f @ x, GRB.MINIMIZE)\u001b[39;00m\n\u001b[0;32m--> 312\u001b[0m min_\u001b[38;5;241m.\u001b[39msetObjective(\u001b[43mtorch\u001b[49m\u001b[38;5;241;43m.\u001b[39;49m\u001b[43mmatmul\u001b[49m\u001b[43m(\u001b[49m\u001b[43mf\u001b[49m\u001b[43m,\u001b[49m\u001b[43m \u001b[49m\u001b[43mx\u001b[49m\u001b[43m)\u001b[49m, GRB\u001b[38;5;241m.\u001b[39mMINIMIZE)\n\u001b[1;32m    313\u001b[0m \u001b[38;5;28;01mif\u001b[39;00m \u001b[38;5;28mlen\u001b[39m(\u001b[38;5;28mself\u001b[39m\u001b[38;5;241m.\u001b[39mC) \u001b[38;5;241m>\u001b[39m \u001b[38;5;241m0\u001b[39m:\n\u001b[1;32m    314\u001b[0m     C \u001b[38;5;241m=\u001b[39m \u001b[38;5;28mself\u001b[39m\u001b[38;5;241m.\u001b[39mC\n",
      "\u001b[0;31mTypeError\u001b[0m: matmul(): argument 'other' (position 2) must be Tensor, not MVar"
     ]
    }
   ],
   "source": [
    "W = torch.rand(dim,dim)\n",
    "b = torch.rand(dim)\n",
    "print('W: ', W)\n",
    "print('b: ', b)\n",
    "Sa = S.affineMap(W,b)\n",
    "print(Sa)\n",
    "print(Sa.getMin(0))"
   ]
  },
  {
   "cell_type": "code",
   "execution_count": null,
   "id": "7db1c5e3",
   "metadata": {},
   "outputs": [],
   "source": [
    "mA = S.A.shape[1]\n",
    "print('c: ', S.c())\n",
    "print('Z: ', torch.zeros(S.dim, S.nVars+1-mA))\n",
    "print('X: ', S.X())\n"
   ]
  },
  {
   "cell_type": "code",
   "execution_count": null,
   "id": "837f6376",
   "metadata": {},
   "outputs": [],
   "source": [
    "print(S.V())"
   ]
  },
  {
   "cell_type": "code",
   "execution_count": null,
   "id": "9b450429",
   "metadata": {},
   "outputs": [],
   "source": [
    "P = torch.rand(4, 4)\n",
    "print(P)\n",
    "ind = [0, 1]\n",
    "print(P[:, ind])\n"
   ]
  },
  {
   "cell_type": "code",
   "execution_count": null,
   "id": "05e10068",
   "metadata": {},
   "outputs": [],
   "source": [
    "A = torch.rand(5,4)\n",
    "mA = A.shape[1]\n",
    "print('mA: ', mA)\n",
    "print('A: ', A)\n",
    "print('X: ', A[:, 1:mA])"
   ]
  },
  {
   "cell_type": "code",
   "execution_count": null,
   "id": "d8213c2e",
   "metadata": {},
   "outputs": [],
   "source": [
    "len(torch.where(ub > lb)[0])"
   ]
  },
  {
   "cell_type": "code",
   "execution_count": null,
   "id": "f46ffb33",
   "metadata": {},
   "outputs": [],
   "source": [
    "v = torch.where(ub > lb)"
   ]
  },
  {
   "cell_type": "code",
   "execution_count": null,
   "id": "49d84680",
   "metadata": {},
   "outputs": [],
   "source": [
    "v"
   ]
  },
  {
   "cell_type": "code",
   "execution_count": null,
   "id": "0e569a82",
   "metadata": {},
   "outputs": [],
   "source": [
    "torch.where(ub > lb, ub, lb)"
   ]
  },
  {
   "cell_type": "code",
   "execution_count": null,
   "id": "47c15e8a",
   "metadata": {},
   "outputs": [],
   "source": [
    "torch.where(ub > lb,)"
   ]
  },
  {
   "cell_type": "code",
   "execution_count": null,
   "id": "e29ea7be",
   "metadata": {},
   "outputs": [],
   "source": [
    "sum(ub > lb)"
   ]
  },
  {
   "cell_type": "code",
   "execution_count": null,
   "id": "84610e90",
   "metadata": {},
   "outputs": [],
   "source": [
    "lbn = -np.random.rand(4)\n",
    "ubn = np.random.rand(4)\n",
    "ubn[2] = lbn[2]\n",
    "S =Star(lbn, ubn)\n",
    "print(S)"
   ]
  },
  {
   "cell_type": "code",
   "execution_count": null,
   "id": "f65dd5a2",
   "metadata": {},
   "outputs": [],
   "source": []
  },
  {
   "cell_type": "code",
   "execution_count": null,
   "id": "2e9cabb2",
   "metadata": {},
   "outputs": [],
   "source": [
    "torch.diag(torch.tensor([1, 1, 0, 1]))"
   ]
  },
  {
   "cell_type": "code",
   "execution_count": null,
   "id": "356c3f3d",
   "metadata": {},
   "outputs": [],
   "source": [
    "e = torch.where(ub > lb)[0]\n",
    "e"
   ]
  },
  {
   "cell_type": "code",
   "execution_count": null,
   "id": "cbad7dcc",
   "metadata": {},
   "outputs": [],
   "source": [
    "torch.eye(e)"
   ]
  },
  {
   "cell_type": "code",
   "execution_count": null,
   "id": "1ba02ef7",
   "metadata": {},
   "outputs": [],
   "source": [
    "x = 10\n",
    "for j, i in 0, range(x):\n",
    "    print(i, j)"
   ]
  },
  {
   "cell_type": "code",
   "execution_count": null,
   "id": "faad7d34",
   "metadata": {},
   "outputs": [],
   "source": [
    "A = torch.rand(4,4)\n",
    "a = torch.where(ub == lb)[0]\n",
    "print(a)\n",
    "A[a[0], :] = []"
   ]
  },
  {
   "cell_type": "code",
   "execution_count": null,
   "id": "29bc66db",
   "metadata": {},
   "outputs": [],
   "source": [
    "torch.tensor(1:4)"
   ]
  },
  {
   "cell_type": "code",
   "execution_count": null,
   "id": "a5591ce1",
   "metadata": {},
   "outputs": [],
   "source": []
  }
 ],
 "metadata": {
  "kernelspec": {
   "display_name": "Python 3 (ipykernel)",
   "language": "python",
   "name": "python3"
  },
  "language_info": {
   "codemirror_mode": {
    "name": "ipython",
    "version": 3
   },
   "file_extension": ".py",
   "mimetype": "text/x-python",
   "name": "python",
   "nbconvert_exporter": "python",
   "pygments_lexer": "ipython3",
   "version": "3.10.7"
  }
 },
 "nbformat": 4,
 "nbformat_minor": 5
}
